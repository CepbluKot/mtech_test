{
 "cells": [
  {
   "cell_type": "code",
   "execution_count": 173,
   "metadata": {},
   "outputs": [
    {
     "data": {
      "text/html": [
       "<div>\n",
       "<style scoped>\n",
       "    .dataframe tbody tr th:only-of-type {\n",
       "        vertical-align: middle;\n",
       "    }\n",
       "\n",
       "    .dataframe tbody tr th {\n",
       "        vertical-align: top;\n",
       "    }\n",
       "\n",
       "    .dataframe thead th {\n",
       "        text-align: right;\n",
       "    }\n",
       "</style>\n",
       "<table border=\"1\" class=\"dataframe\">\n",
       "  <thead>\n",
       "    <tr style=\"text-align: right;\">\n",
       "      <th></th>\n",
       "      <th>Количество больничных дней</th>\n",
       "      <th>Возраст</th>\n",
       "      <th>Пол</th>\n",
       "    </tr>\n",
       "  </thead>\n",
       "  <tbody>\n",
       "    <tr>\n",
       "      <th>0</th>\n",
       "      <td>5</td>\n",
       "      <td>39</td>\n",
       "      <td>Ж</td>\n",
       "    </tr>\n",
       "    <tr>\n",
       "      <th>1</th>\n",
       "      <td>4</td>\n",
       "      <td>54</td>\n",
       "      <td>М</td>\n",
       "    </tr>\n",
       "    <tr>\n",
       "      <th>2</th>\n",
       "      <td>4</td>\n",
       "      <td>26</td>\n",
       "      <td>М</td>\n",
       "    </tr>\n",
       "    <tr>\n",
       "      <th>3</th>\n",
       "      <td>5</td>\n",
       "      <td>42</td>\n",
       "      <td>М</td>\n",
       "    </tr>\n",
       "    <tr>\n",
       "      <th>4</th>\n",
       "      <td>4</td>\n",
       "      <td>29</td>\n",
       "      <td>М</td>\n",
       "    </tr>\n",
       "    <tr>\n",
       "      <th>...</th>\n",
       "      <td>...</td>\n",
       "      <td>...</td>\n",
       "      <td>...</td>\n",
       "    </tr>\n",
       "    <tr>\n",
       "      <th>232</th>\n",
       "      <td>5</td>\n",
       "      <td>30</td>\n",
       "      <td>М</td>\n",
       "    </tr>\n",
       "    <tr>\n",
       "      <th>233</th>\n",
       "      <td>4</td>\n",
       "      <td>36</td>\n",
       "      <td>Ж</td>\n",
       "    </tr>\n",
       "    <tr>\n",
       "      <th>234</th>\n",
       "      <td>2</td>\n",
       "      <td>60</td>\n",
       "      <td>Ж</td>\n",
       "    </tr>\n",
       "    <tr>\n",
       "      <th>235</th>\n",
       "      <td>2</td>\n",
       "      <td>44</td>\n",
       "      <td>Ж</td>\n",
       "    </tr>\n",
       "    <tr>\n",
       "      <th>236</th>\n",
       "      <td>3</td>\n",
       "      <td>37</td>\n",
       "      <td>М</td>\n",
       "    </tr>\n",
       "  </tbody>\n",
       "</table>\n",
       "<p>237 rows × 3 columns</p>\n",
       "</div>"
      ],
      "text/plain": [
       "     Количество больничных дней  Возраст Пол\n",
       "0                             5       39   Ж\n",
       "1                             4       54   М\n",
       "2                             4       26   М\n",
       "3                             5       42   М\n",
       "4                             4       29   М\n",
       "..                          ...      ...  ..\n",
       "232                           5       30   М\n",
       "233                           4       36   Ж\n",
       "234                           2       60   Ж\n",
       "235                           2       44   Ж\n",
       "236                           3       37   М\n",
       "\n",
       "[237 rows x 3 columns]"
      ]
     },
     "execution_count": 173,
     "metadata": {},
     "output_type": "execute_result"
    }
   ],
   "source": [
    "import pandas as pd\n",
    "\n",
    "\n",
    "df = pd.read_csv('data.csv')\n",
    "df.dropna()\n",
    "df"
   ]
  },
  {
   "attachments": {},
   "cell_type": "markdown",
   "metadata": {},
   "source": [
    "--------------------------------------"
   ]
  },
  {
   "attachments": {},
   "cell_type": "markdown",
   "metadata": {},
   "source": [
    "Анализ гипотезы: Мужчины пропускают в течение года более 2 рабочих дней (work_days) по болезни значимо чаще женщин"
   ]
  },
  {
   "cell_type": "code",
   "execution_count": 174,
   "metadata": {},
   "outputs": [
    {
     "name": "stdout",
     "output_type": "stream",
     "text": [
      "Число людей по выбранным группам:\n",
      "Мужчины:  84\n",
      "Женщины:  67\n"
     ]
    }
   ],
   "source": [
    "selecetd_group_of_men_df = df.loc[(df['Количество больничных дней'] > 2) & (df['Пол'] == 'М')]\n",
    "\n",
    "selecetd_group_of_women_df = df.loc[(df['Количество больничных дней'] > 2) & (df['Пол'] == 'Ж')]\n",
    "\n",
    "\n",
    "amount_of_selected_men = len(selecetd_group_of_men_df)\n",
    "amount_of_selected_women = len(selecetd_group_of_women_df)\n",
    "\n",
    "\n",
    "print('Число людей по выбранным группам:')\n",
    "print('Мужчины: ', amount_of_selected_men)\n",
    "print('Женщины: ', amount_of_selected_women) "
   ]
  },
  {
   "attachments": {},
   "cell_type": "markdown",
   "metadata": {},
   "source": [
    "Найдем отношение <mark>числа сотрудников каждой выбранной группы</mark> к <mark>общему числу сотрудников определенонго пола</mark>"
   ]
  },
  {
   "cell_type": "code",
   "execution_count": 175,
   "metadata": {},
   "outputs": [
    {
     "name": "stdout",
     "output_type": "stream",
     "text": [
      "% от общего числа сотрудников соответвуюшего пола:\n",
      "Мужчины:  60.431654676258994 %\n",
      "Женщины:  68.36734693877551 %\n",
      "\n",
      "\n",
      "% пропускающих людей (мужчины) < % пропускающих людей (женщины) на 7.935692262516518  %\n"
     ]
    }
   ],
   "source": [
    "amount_of_all_men = len(df.loc[(df['Пол'] == 'М')])\n",
    "amount_of_all_women = len(df.loc[(df['Пол'] == 'Ж')])\n",
    "\n",
    "\n",
    "percent_of_men = amount_of_selected_men / amount_of_all_men * 100\n",
    "percent_of_women = amount_of_selected_women / amount_of_all_women * 100\n",
    "\n",
    "\n",
    "print('% от общего числа сотрудников соответвуюшего пола:')\n",
    "print('Мужчины: ', percent_of_men, '%')\n",
    "print('Женщины: ',  percent_of_women, '%')\n",
    "\n",
    "\n",
    "print('\\n')\n",
    "\n",
    "\n",
    "if percent_of_men > percent_of_women:\n",
    "    print('% пропускающих людей (мужчины) > % пропускающих людей (женщины) на ', abs(percent_of_men-percent_of_women), ' %')\n",
    "\n",
    "elif percent_of_men < percent_of_women:\n",
    "    print('% пропускающих людей (мужчины) < % пропускающих людей (женщины) на', abs(percent_of_men-percent_of_women), ' %')\n",
    "\n",
    "else: \n",
    "    print('% пропускающих людей (мужчины) = % пропускающих людей (женщины)')"
   ]
  },
  {
   "cell_type": "code",
   "execution_count": 176,
   "metadata": {},
   "outputs": [
    {
     "data": {
      "image/png": "[encoded data removed]",
      "text/plain": [
       "<Figure size 1000x500 with 1 Axes>"
      ]
     },
     "metadata": {},
     "output_type": "display_data"
    }
   ],
   "source": [
    "import matplotlib\n",
    "import matplotlib.pyplot as plt\n",
    "\n",
    "\n",
    "result = {'Мужчины': amount_of_selected_men / amount_of_all_men * 100, \n",
    "          'Женщины': amount_of_selected_women / amount_of_all_women * 100}\n",
    "\n",
    "\n",
    "courses = list(result.keys())\n",
    "values = list(result.values())\n",
    "\n",
    "fig = plt.figure(figsize = (10, 5))\n",
    " \n",
    "plt.bar(courses, values,\n",
    "        width = 0.4)\n",
    " \n",
    "plt.xlabel(\"Группа\")\n",
    "plt.ylabel(\"% от общего числа\")\n",
    "plt.title(\"% от общего числа сотрудников соответвуюшего пола\")\n",
    "plt.show()"
   ]
  },
  {
   "attachments": {},
   "cell_type": "markdown",
   "metadata": {},
   "source": [
    "--------------------------------------------------------------------------------------------------------------------------"
   ]
  },
  {
   "attachments": {},
   "cell_type": "markdown",
   "metadata": {},
   "source": [
    "Анализ гипотезы: Работники старше 35 лет (age) пропускают в течение года более 2 рабочих дней (work_days) по болезни значимо чаще своих более молодых коллег."
   ]
  },
  {
   "cell_type": "code",
   "execution_count": 177,
   "metadata": {},
   "outputs": [
    {
     "name": "stdout",
     "output_type": "stream",
     "text": [
      "Число людей по выбранным группам:\n",
      "Cтарше 35:  115\n",
      "35 и младше:  36\n"
     ]
    }
   ],
   "source": [
    "selected_group_of_olds_df = df.loc[(df['Возраст'] > 35) & (df['Количество больничных дней'] > 2)]\n",
    "selected_group_of_youngs_df = df.loc[(df['Возраст'] <= 35) & (df['Количество больничных дней'] > 2)]\n",
    "\n",
    "\n",
    "amount_of_selected_olds = len(selected_group_of_olds_df)\n",
    "amount_of_selected_youngs = len(selected_group_of_youngs_df)\n",
    "\n",
    "\n",
    "print('Число людей по выбранным группам:')\n",
    "print('Cтарше 35: ', amount_of_selected_olds)\n",
    "print('35 и младше: ', amount_of_selected_youngs) "
   ]
  },
  {
   "attachments": {},
   "cell_type": "markdown",
   "metadata": {},
   "source": [
    "Найдем отношение <mark>числа сотрудников каждой выбранной группы</mark> к <mark>общему числу сотрудников определеной возрастной группы</mark>"
   ]
  },
  {
   "cell_type": "code",
   "execution_count": 178,
   "metadata": {},
   "outputs": [
    {
     "name": "stdout",
     "output_type": "stream",
     "text": [
      "% от общего числа сотрудников соответвуюшей возрастной группы:\n",
      "(старше 35):  63.888888888888886 %\n",
      "35 и младше:  63.1578947368421 %\n",
      "\n",
      "\n",
      "% пропускающих людей (старше 35) > % пропускающих людей (35 и младше) на  0.7309941520467831  %\n"
     ]
    }
   ],
   "source": [
    "amount_of_all_olds = len(df.loc[(df['Возраст'] > 35)])\n",
    "amount_of_all_youngs = len(df.loc[(df['Возраст'] <= 35)])\n",
    "\n",
    "\n",
    "percent_of_olds = amount_of_selected_olds / amount_of_all_olds * 100\n",
    "percent_of_youngs = amount_of_selected_youngs / amount_of_all_youngs * 100\n",
    "\n",
    "\n",
    "print('% от общего числа сотрудников соответвуюшей возрастной группы:')\n",
    "print('(старше 35): ',  percent_of_olds, '%')\n",
    "print('35 и младше: ',  percent_of_youngs, '%')\n",
    "\n",
    "print('\\n')\n",
    "\n",
    "if percent_of_olds > percent_of_youngs:\n",
    "    print('% пропускающих людей (старше 35) > % пропускающих людей (35 и младше) на ', abs(percent_of_olds-percent_of_youngs), ' %' )\n",
    "\n",
    "\n",
    "elif percent_of_olds < percent_of_youngs:\n",
    "    print('% пропускающих людей (старше 35) < % пропускающих людей (35 и младше) на', abs(percent_of_olds-percent_of_youngs), ' %')\n",
    "\n",
    "else: \n",
    "    print('% пропускающих людей (старше 35) = % пропускающих людей (35 и младше)')\n"
   ]
  },
  {
   "cell_type": "code",
   "execution_count": 179,
   "metadata": {},
   "outputs": [
    {
     "data": {
      "image/png": "[encoded data removed]",
      "text/plain": [
       "<Figure size 1000x500 with 1 Axes>"
      ]
     },
     "metadata": {},
     "output_type": "display_data"
    }
   ],
   "source": [
    "result = {'старше 35': amount_of_selected_olds / amount_of_all_olds * 100, \n",
    "          '35 и младше': amount_of_selected_youngs / amount_of_all_youngs * 100}\n",
    "\n",
    "\n",
    "courses = list(result.keys())\n",
    "values = list(result.values())\n",
    "\n",
    "\n",
    "fig = plt.figure(figsize = (10, 5))\n",
    " \n",
    "plt.bar(courses, values,\n",
    "        width = 0.4)\n",
    " \n",
    "plt.xlabel(\"Группа\")\n",
    "plt.ylabel(\"% от общего числа\")\n",
    "plt.title(\"% от общего числа сотрудников соответвуюшей возрастной группы\")\n",
    "plt.show()"
   ]
  }
 ],
 "metadata": {
  "kernelspec": {
   "display_name": "Python 3",
   "language": "python",
   "name": "python3"
  },
  "language_info": {
   "codemirror_mode": {
    "name": "ipython",
    "version": 3
   },
   "file_extension": ".py",
   "mimetype": "text/x-python",
   "name": "python",
   "nbconvert_exporter": "python",
   "pygments_lexer": "ipython3",
   "version": "3.10.6"
  },
  "orig_nbformat": 4
 },
 "nbformat": 4,
 "nbformat_minor": 2
}
